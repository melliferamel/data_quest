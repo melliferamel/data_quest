{
 "cells": [
  {
   "cell_type": "code",
   "execution_count": 1,
   "metadata": {
    "collapsed": false
   },
   "outputs": [
    {
     "data": {
      "text/plain": [
       "'Connected: None@chinook.db'"
      ]
     },
     "execution_count": 1,
     "metadata": {},
     "output_type": "execute_result"
    }
   ],
   "source": [
    "%%capture\n",
    "%load_ext sql\n",
    "%sql sqlite:///chinook.db"
   ]
  },
  {
   "cell_type": "code",
   "execution_count": 2,
   "metadata": {
    "collapsed": false
   },
   "outputs": [
    {
     "name": "stdout",
     "output_type": "stream",
     "text": [
      "Done.\n"
     ]
    },
    {
     "data": {
      "text/html": [
       "<table>\n",
       "    <tr>\n",
       "        <th>name</th>\n",
       "        <th>type</th>\n",
       "    </tr>\n",
       "    <tr>\n",
       "        <td>album</td>\n",
       "        <td>table</td>\n",
       "    </tr>\n",
       "    <tr>\n",
       "        <td>artist</td>\n",
       "        <td>table</td>\n",
       "    </tr>\n",
       "    <tr>\n",
       "        <td>customer</td>\n",
       "        <td>table</td>\n",
       "    </tr>\n",
       "    <tr>\n",
       "        <td>employee</td>\n",
       "        <td>table</td>\n",
       "    </tr>\n",
       "    <tr>\n",
       "        <td>genre</td>\n",
       "        <td>table</td>\n",
       "    </tr>\n",
       "    <tr>\n",
       "        <td>invoice</td>\n",
       "        <td>table</td>\n",
       "    </tr>\n",
       "    <tr>\n",
       "        <td>invoice_line</td>\n",
       "        <td>table</td>\n",
       "    </tr>\n",
       "    <tr>\n",
       "        <td>media_type</td>\n",
       "        <td>table</td>\n",
       "    </tr>\n",
       "    <tr>\n",
       "        <td>playlist</td>\n",
       "        <td>table</td>\n",
       "    </tr>\n",
       "    <tr>\n",
       "        <td>playlist_track</td>\n",
       "        <td>table</td>\n",
       "    </tr>\n",
       "    <tr>\n",
       "        <td>track</td>\n",
       "        <td>table</td>\n",
       "    </tr>\n",
       "</table>"
      ],
      "text/plain": [
       "[('album', 'table'),\n",
       " ('artist', 'table'),\n",
       " ('customer', 'table'),\n",
       " ('employee', 'table'),\n",
       " ('genre', 'table'),\n",
       " ('invoice', 'table'),\n",
       " ('invoice_line', 'table'),\n",
       " ('media_type', 'table'),\n",
       " ('playlist', 'table'),\n",
       " ('playlist_track', 'table'),\n",
       " ('track', 'table')]"
      ]
     },
     "execution_count": 2,
     "metadata": {},
     "output_type": "execute_result"
    }
   ],
   "source": [
    "%%sql\n",
    "SELECT\n",
    "    name,\n",
    "    type\n",
    "FROM sqlite_master\n",
    "WHERE type IN (\"table\",\"view\");"
   ]
  },
  {
   "cell_type": "code",
   "execution_count": 3,
   "metadata": {
    "collapsed": false
   },
   "outputs": [
    {
     "name": "stdout",
     "output_type": "stream",
     "text": [
      "Done.\n"
     ]
    },
    {
     "data": {
      "text/html": [
       "<table>\n",
       "    <tr>\n",
       "        <th>customer_id</th>\n",
       "        <th>first_name</th>\n",
       "        <th>last_name</th>\n",
       "        <th>company</th>\n",
       "        <th>address</th>\n",
       "        <th>city</th>\n",
       "        <th>state</th>\n",
       "        <th>country</th>\n",
       "        <th>postal_code</th>\n",
       "        <th>phone</th>\n",
       "        <th>fax</th>\n",
       "        <th>email</th>\n",
       "        <th>support_rep_id</th>\n",
       "    </tr>\n",
       "    <tr>\n",
       "        <td>16</td>\n",
       "        <td>Frank</td>\n",
       "        <td>Harris</td>\n",
       "        <td>Google Inc.</td>\n",
       "        <td>1600 Amphitheatre Parkway</td>\n",
       "        <td>Mountain View</td>\n",
       "        <td>CA</td>\n",
       "        <td>USA</td>\n",
       "        <td>94043-1351</td>\n",
       "        <td>+1 (650) 253-0000</td>\n",
       "        <td>+1 (650) 253-0000</td>\n",
       "        <td>fharris@google.com</td>\n",
       "        <td>4</td>\n",
       "    </tr>\n",
       "    <tr>\n",
       "        <td>17</td>\n",
       "        <td>Jack</td>\n",
       "        <td>Smith</td>\n",
       "        <td>Microsoft Corporation</td>\n",
       "        <td>1 Microsoft Way</td>\n",
       "        <td>Redmond</td>\n",
       "        <td>WA</td>\n",
       "        <td>USA</td>\n",
       "        <td>98052-8300</td>\n",
       "        <td>+1 (425) 882-8080</td>\n",
       "        <td>+1 (425) 882-8081</td>\n",
       "        <td>jacksmith@microsoft.com</td>\n",
       "        <td>5</td>\n",
       "    </tr>\n",
       "    <tr>\n",
       "        <td>18</td>\n",
       "        <td>Michelle</td>\n",
       "        <td>Brooks</td>\n",
       "        <td>None</td>\n",
       "        <td>627 Broadway</td>\n",
       "        <td>New York</td>\n",
       "        <td>NY</td>\n",
       "        <td>USA</td>\n",
       "        <td>10012-2612</td>\n",
       "        <td>+1 (212) 221-3546</td>\n",
       "        <td>+1 (212) 221-4679</td>\n",
       "        <td>michelleb@aol.com</td>\n",
       "        <td>3</td>\n",
       "    </tr>\n",
       "</table>"
      ],
      "text/plain": [
       "[(16, 'Frank', 'Harris', 'Google Inc.', '1600 Amphitheatre Parkway', 'Mountain View', 'CA', 'USA', '94043-1351', '+1 (650) 253-0000', '+1 (650) 253-0000', 'fharris@google.com', 4),\n",
       " (17, 'Jack', 'Smith', 'Microsoft Corporation', '1 Microsoft Way', 'Redmond', 'WA', 'USA', '98052-8300', '+1 (425) 882-8080', '+1 (425) 882-8081', 'jacksmith@microsoft.com', 5),\n",
       " (18, 'Michelle', 'Brooks', None, '627 Broadway', 'New York', 'NY', 'USA', '10012-2612', '+1 (212) 221-3546', '+1 (212) 221-4679', 'michelleb@aol.com', 3)]"
      ]
     },
     "execution_count": 3,
     "metadata": {},
     "output_type": "execute_result"
    }
   ],
   "source": [
    "%%sql\n",
    "WITH usa_customers AS\n",
    "    (SELECT *\n",
    "       FROM customer\n",
    "      WHERE country = \"USA\")\n",
    "\n",
    "SELECT *\n",
    "  FROM usa_customers\n",
    " LIMIT 3;"
   ]
  },
  {
   "cell_type": "code",
   "execution_count": 4,
   "metadata": {
    "collapsed": false
   },
   "outputs": [
    {
     "name": "stdout",
     "output_type": "stream",
     "text": [
      "Done.\n"
     ]
    },
    {
     "data": {
      "text/html": [
       "<table>\n",
       "    <tr>\n",
       "        <th>invoice_id</th>\n",
       "        <th>genre</th>\n",
       "        <th>number_of_tracks_sold</th>\n",
       "        <th>percentage_tracks_sold</th>\n",
       "    </tr>\n",
       "    <tr>\n",
       "        <td>600</td>\n",
       "        <td>Alternative</td>\n",
       "        <td>117</td>\n",
       "        <td>0.024595333193188986</td>\n",
       "    </tr>\n",
       "    <tr>\n",
       "        <td>609</td>\n",
       "        <td>Alternative &amp; Punk</td>\n",
       "        <td>492</td>\n",
       "        <td>0.10342652932520496</td>\n",
       "    </tr>\n",
       "    <tr>\n",
       "        <td>595</td>\n",
       "        <td>Blues</td>\n",
       "        <td>124</td>\n",
       "        <td>0.026066848854319948</td>\n",
       "    </tr>\n",
       "    <tr>\n",
       "        <td>586</td>\n",
       "        <td>Classical</td>\n",
       "        <td>47</td>\n",
       "        <td>0.009880176581879336</td>\n",
       "    </tr>\n",
       "    <tr>\n",
       "        <td>29</td>\n",
       "        <td>Drama</td>\n",
       "        <td>1</td>\n",
       "        <td>0.00021021652301870928</td>\n",
       "    </tr>\n",
       "    <tr>\n",
       "        <td>610</td>\n",
       "        <td>Easy Listening</td>\n",
       "        <td>74</td>\n",
       "        <td>0.015556022703384485</td>\n",
       "    </tr>\n",
       "    <tr>\n",
       "        <td>566</td>\n",
       "        <td>Electronica/Dance</td>\n",
       "        <td>55</td>\n",
       "        <td>0.01156190876602901</td>\n",
       "    </tr>\n",
       "    <tr>\n",
       "        <td>558</td>\n",
       "        <td>Heavy Metal</td>\n",
       "        <td>8</td>\n",
       "        <td>0.0016817321841496743</td>\n",
       "    </tr>\n",
       "    <tr>\n",
       "        <td>577</td>\n",
       "        <td>Hip Hop/Rap</td>\n",
       "        <td>33</td>\n",
       "        <td>0.006937145259617406</td>\n",
       "    </tr>\n",
       "    <tr>\n",
       "        <td>613</td>\n",
       "        <td>Jazz</td>\n",
       "        <td>121</td>\n",
       "        <td>0.025436199285263823</td>\n",
       "    </tr>\n",
       "    <tr>\n",
       "        <td>610</td>\n",
       "        <td>Latin</td>\n",
       "        <td>167</td>\n",
       "        <td>0.03510615934412445</td>\n",
       "    </tr>\n",
       "    <tr>\n",
       "        <td>613</td>\n",
       "        <td>Metal</td>\n",
       "        <td>619</td>\n",
       "        <td>0.13012402774858103</td>\n",
       "    </tr>\n",
       "    <tr>\n",
       "        <td>603</td>\n",
       "        <td>Pop</td>\n",
       "        <td>63</td>\n",
       "        <td>0.013243640950178683</td>\n",
       "    </tr>\n",
       "    <tr>\n",
       "        <td>613</td>\n",
       "        <td>R&amp;B/Soul</td>\n",
       "        <td>159</td>\n",
       "        <td>0.033424427159974776</td>\n",
       "    </tr>\n",
       "    <tr>\n",
       "        <td>592</td>\n",
       "        <td>Reggae</td>\n",
       "        <td>35</td>\n",
       "        <td>0.007357578305654824</td>\n",
       "    </tr>\n",
       "    <tr>\n",
       "        <td>614</td>\n",
       "        <td>Rock</td>\n",
       "        <td>2635</td>\n",
       "        <td>0.553920538154299</td>\n",
       "    </tr>\n",
       "    <tr>\n",
       "        <td>441</td>\n",
       "        <td>Soundtrack</td>\n",
       "        <td>5</td>\n",
       "        <td>0.0010510826150935463</td>\n",
       "    </tr>\n",
       "    <tr>\n",
       "        <td>383</td>\n",
       "        <td>TV Shows</td>\n",
       "        <td>2</td>\n",
       "        <td>0.00042043304603741857</td>\n",
       "    </tr>\n",
       "</table>"
      ],
      "text/plain": [
       "[(600, 'Alternative', 117, 0.024595333193188986),\n",
       " (609, 'Alternative & Punk', 492, 0.10342652932520496),\n",
       " (595, 'Blues', 124, 0.026066848854319948),\n",
       " (586, 'Classical', 47, 0.009880176581879336),\n",
       " (29, 'Drama', 1, 0.00021021652301870928),\n",
       " (610, 'Easy Listening', 74, 0.015556022703384485),\n",
       " (566, 'Electronica/Dance', 55, 0.01156190876602901),\n",
       " (558, 'Heavy Metal', 8, 0.0016817321841496743),\n",
       " (577, 'Hip Hop/Rap', 33, 0.006937145259617406),\n",
       " (613, 'Jazz', 121, 0.025436199285263823),\n",
       " (610, 'Latin', 167, 0.03510615934412445),\n",
       " (613, 'Metal', 619, 0.13012402774858103),\n",
       " (603, 'Pop', 63, 0.013243640950178683),\n",
       " (613, 'R&B/Soul', 159, 0.033424427159974776),\n",
       " (592, 'Reggae', 35, 0.007357578305654824),\n",
       " (614, 'Rock', 2635, 0.553920538154299),\n",
       " (441, 'Soundtrack', 5, 0.0010510826150935463),\n",
       " (383, 'TV Shows', 2, 0.00042043304603741857)]"
      ]
     },
     "execution_count": 4,
     "metadata": {},
     "output_type": "execute_result"
    }
   ],
   "source": [
    "%%sql\n",
    "WITH tracks_and_genre AS\n",
    "(\n",
    "SELECT il.invoice_id,\n",
    "       g.name genre,\n",
    "       SUM(il.quantity) number_of_tracks_sold,\n",
    "       SUM(CAST(il.quantity AS float)) / \n",
    "            (SELECT SUM(quantity)\n",
    "               FROM invoice_line) percentage_tracks_sold\n",
    "  FROM invoice_line il\n",
    "  LEFT JOIN track t\n",
    "    ON il.track_id = t.track_id\n",
    "  LEFT JOIN genre g\n",
    "    ON t.genre_id = g.genre_id\n",
    " GROUP BY genre )\n",
    "\n",
    "SELECT *\n",
    "  FROM tracks_and_genre;"
   ]
  },
  {
   "cell_type": "code",
   "execution_count": 5,
   "metadata": {
    "collapsed": false
   },
   "outputs": [
    {
     "name": "stdout",
     "output_type": "stream",
     "text": [
      "Done.\n"
     ]
    },
    {
     "data": {
      "text/html": [
       "<table>\n",
       "    <tr>\n",
       "        <th>genre</th>\n",
       "        <th>number_of_tracks_sold</th>\n",
       "        <th>percentage_tracks_sold</th>\n",
       "    </tr>\n",
       "    <tr>\n",
       "        <td>Rock</td>\n",
       "        <td>561</td>\n",
       "        <td>0.5337773549000951</td>\n",
       "    </tr>\n",
       "    <tr>\n",
       "        <td>Alternative &amp; Punk</td>\n",
       "        <td>130</td>\n",
       "        <td>0.12369172216936251</td>\n",
       "    </tr>\n",
       "    <tr>\n",
       "        <td>Metal</td>\n",
       "        <td>124</td>\n",
       "        <td>0.11798287345385347</td>\n",
       "    </tr>\n",
       "    <tr>\n",
       "        <td>R&amp;B/Soul</td>\n",
       "        <td>53</td>\n",
       "        <td>0.05042816365366318</td>\n",
       "    </tr>\n",
       "    <tr>\n",
       "        <td>Blues</td>\n",
       "        <td>36</td>\n",
       "        <td>0.03425309229305423</td>\n",
       "    </tr>\n",
       "    <tr>\n",
       "        <td>Alternative</td>\n",
       "        <td>35</td>\n",
       "        <td>0.03330161750713606</td>\n",
       "    </tr>\n",
       "    <tr>\n",
       "        <td>Latin</td>\n",
       "        <td>22</td>\n",
       "        <td>0.02093244529019981</td>\n",
       "    </tr>\n",
       "    <tr>\n",
       "        <td>Pop</td>\n",
       "        <td>22</td>\n",
       "        <td>0.02093244529019981</td>\n",
       "    </tr>\n",
       "    <tr>\n",
       "        <td>Hip Hop/Rap</td>\n",
       "        <td>20</td>\n",
       "        <td>0.019029495718363463</td>\n",
       "    </tr>\n",
       "    <tr>\n",
       "        <td>Jazz</td>\n",
       "        <td>14</td>\n",
       "        <td>0.013320647002854425</td>\n",
       "    </tr>\n",
       "</table>"
      ],
      "text/plain": [
       "[('Rock', 561, 0.5337773549000951),\n",
       " ('Alternative & Punk', 130, 0.12369172216936251),\n",
       " ('Metal', 124, 0.11798287345385347),\n",
       " ('R&B/Soul', 53, 0.05042816365366318),\n",
       " ('Blues', 36, 0.03425309229305423),\n",
       " ('Alternative', 35, 0.03330161750713606),\n",
       " ('Latin', 22, 0.02093244529019981),\n",
       " ('Pop', 22, 0.02093244529019981),\n",
       " ('Hip Hop/Rap', 20, 0.019029495718363463),\n",
       " ('Jazz', 14, 0.013320647002854425)]"
      ]
     },
     "execution_count": 5,
     "metadata": {},
     "output_type": "execute_result"
    }
   ],
   "source": [
    "%%sql\n",
    "\n",
    "SELECT \n",
    "       g.name genre,\n",
    "       SUM(il.quantity) number_of_tracks_sold,\n",
    "       SUM(CAST(il.quantity AS float)) / \n",
    "            (SELECT SUM(il.quantity)\n",
    "               FROM invoice_line il\n",
    "               LEFT JOIN invoice i\n",
    "                 ON il.invoice_id = i.invoice_id\n",
    "               LEFT JOIN customer c\n",
    "                 ON i.customer_id = c.customer_id\n",
    "              WHERE c.country = \"USA\") percentage_tracks_sold\n",
    "  FROM invoice_line il\n",
    "  LEFT JOIN track t\n",
    "    ON il.track_id = t.track_id\n",
    "  LEFT JOIN genre g\n",
    "    ON t.genre_id = g.genre_id\n",
    "  LEFT JOIN invoice i\n",
    "    ON il.invoice_id = i.invoice_id\n",
    "  LEFT JOIN customer c\n",
    "    ON i.customer_id = c.customer_id\n",
    " WHERE c.country = \"USA\"\n",
    " GROUP BY genre\n",
    " ORDER BY number_of_tracks_sold DESC\n",
    " LIMIT 10;"
   ]
  },
  {
   "cell_type": "markdown",
   "metadata": {},
   "source": [
    "## Top Selling Genres in the USA\n",
    "\n",
    "Rock is by far the best selling genre in the UK, with over 50% of all tracks sold.  The next top sellers are Alternative and Punk and Metal.  The top 3 best selling albums are also from Rock genre."
   ]
  },
  {
   "cell_type": "code",
   "execution_count": 6,
   "metadata": {
    "collapsed": false
   },
   "outputs": [
    {
     "name": "stdout",
     "output_type": "stream",
     "text": [
      "Done.\n"
     ]
    },
    {
     "data": {
      "text/html": [
       "<table>\n",
       "    <tr>\n",
       "        <th>artist_name</th>\n",
       "        <th>album</th>\n",
       "        <th>genre</th>\n",
       "        <th>album_sales</th>\n",
       "    </tr>\n",
       "    <tr>\n",
       "        <td>Jimi Hendrix</td>\n",
       "        <td>Are You Experienced?</td>\n",
       "        <td>Rock</td>\n",
       "        <td>28</td>\n",
       "    </tr>\n",
       "    <tr>\n",
       "        <td>Nirvana</td>\n",
       "        <td>From The Muddy Banks Of The Wishkah [live]</td>\n",
       "        <td>Rock</td>\n",
       "        <td>28</td>\n",
       "    </tr>\n",
       "    <tr>\n",
       "        <td>The Doors</td>\n",
       "        <td>The Doors</td>\n",
       "        <td>Rock</td>\n",
       "        <td>27</td>\n",
       "    </tr>\n",
       "</table>"
      ],
      "text/plain": [
       "[('Jimi Hendrix', 'Are You Experienced?', 'Rock', 28),\n",
       " ('Nirvana', 'From The Muddy Banks Of The Wishkah [live]', 'Rock', 28),\n",
       " ('The Doors', 'The Doors', 'Rock', 27)]"
      ]
     },
     "execution_count": 6,
     "metadata": {},
     "output_type": "execute_result"
    }
   ],
   "source": [
    "%%sql\n",
    "SELECT at.name artist_name,\n",
    "       al.title album,\n",
    "       g.name genre,\n",
    "       SUM(il.quantity) album_sales\n",
    "  FROM track t\n",
    "  LEFT JOIN album al\n",
    "    ON t.album_id = al.album_id\n",
    "  LEFT JOIN artist at\n",
    "    ON al.artist_id = at.artist_id\n",
    "  LEFT JOIN genre g\n",
    "    ON t.genre_id = g.genre_id\n",
    "  LEFT JOIN invoice_line il\n",
    "    ON t.track_id = il.track_id\n",
    "  LEFT JOIN invoice i\n",
    "    ON i.invoice_id = il.invoice_id\n",
    "  LEFT JOIN customer c\n",
    "    ON i.customer_id = c.customer_id\n",
    " WHERE c.country = \"USA\"\n",
    " GROUP BY album\n",
    " ORDER BY album_sales DESC\n",
    " LIMIT 3;\n"
   ]
  },
  {
   "cell_type": "code",
   "execution_count": 7,
   "metadata": {
    "collapsed": false
   },
   "outputs": [
    {
     "name": "stdout",
     "output_type": "stream",
     "text": [
      "Done.\n"
     ]
    },
    {
     "data": {
      "text/html": [
       "<table>\n",
       "    <tr>\n",
       "        <th>employee_name</th>\n",
       "        <th>hire_date</th>\n",
       "        <th>total_sales</th>\n",
       "        <th>average_sale</th>\n",
       "    </tr>\n",
       "    <tr>\n",
       "        <td>Jane Peacock</td>\n",
       "        <td>2017-04-01 00:00:00</td>\n",
       "        <td>1731.51</td>\n",
       "        <td>8.17</td>\n",
       "    </tr>\n",
       "    <tr>\n",
       "        <td>Margaret Park</td>\n",
       "        <td>2017-05-03 00:00:00</td>\n",
       "        <td>1584.0</td>\n",
       "        <td>7.4</td>\n",
       "    </tr>\n",
       "    <tr>\n",
       "        <td>Steve Johnson</td>\n",
       "        <td>2017-10-17 00:00:00</td>\n",
       "        <td>1393.92</td>\n",
       "        <td>7.41</td>\n",
       "    </tr>\n",
       "</table>"
      ],
      "text/plain": [
       "[('Jane Peacock', '2017-04-01 00:00:00', 1731.51, 8.17),\n",
       " ('Margaret Park', '2017-05-03 00:00:00', 1584.0, 7.4),\n",
       " ('Steve Johnson', '2017-10-17 00:00:00', 1393.92, 7.41)]"
      ]
     },
     "execution_count": 7,
     "metadata": {},
     "output_type": "execute_result"
    }
   ],
   "source": [
    "%%sql\n",
    "SELECT e.first_name || \" \" || e.last_name employee_name,\n",
    "       e.hire_date,\n",
    "       ROUND(SUM(i.total), 2) total_sales,\n",
    "       ROUND(AVG(i.total), 2) average_sale\n",
    "  FROM employee e\n",
    " INNER JOIN customer c\n",
    "    ON e.employee_id = c.support_rep_id\n",
    " INNER JOIN invoice i\n",
    "    ON c.customer_id = i.customer_id\n",
    " WHERE title = \"Sales Support Agent\"\n",
    " GROUP BY employee_name"
   ]
  },
  {
   "cell_type": "markdown",
   "metadata": {},
   "source": [
    "## Sales made by Sales Support Agents\n",
    "\n",
    "There are three sales support agents, Jane Peacock makes the most sales at \\$1731.51.  She also makes the largest sale at \\$8.17.  Margaret Park makes \\$1584 in total sales with average sale of \\$7.4.  Steve Johnson makes a similar average sale to Margaret at \\$7.41, but because Steve has been working 5 months less than Margaret his total sales are only \\$1393.92.  Jane has been working the longest, which may account somewhat for her higher sales."
   ]
  },
  {
   "cell_type": "code",
   "execution_count": 8,
   "metadata": {
    "collapsed": false
   },
   "outputs": [
    {
     "name": "stdout",
     "output_type": "stream",
     "text": [
      "Done.\n"
     ]
    },
    {
     "data": {
      "text/html": [
       "<table>\n",
       "    <tr>\n",
       "        <th>country</th>\n",
       "        <th>number_of_customers</th>\n",
       "        <th>total_sales</th>\n",
       "        <th>avg_sale</th>\n",
       "        <th>avg_customer_total</th>\n",
       "        <th>sort</th>\n",
       "    </tr>\n",
       "    <tr>\n",
       "        <td>USA</td>\n",
       "        <td>13</td>\n",
       "        <td>1040.49</td>\n",
       "        <td>7.94</td>\n",
       "        <td>80.0</td>\n",
       "        <td>0</td>\n",
       "    </tr>\n",
       "    <tr>\n",
       "        <td>Canada</td>\n",
       "        <td>8</td>\n",
       "        <td>535.59</td>\n",
       "        <td>7.05</td>\n",
       "        <td>67.0</td>\n",
       "        <td>0</td>\n",
       "    </tr>\n",
       "    <tr>\n",
       "        <td>Brazil</td>\n",
       "        <td>5</td>\n",
       "        <td>427.68</td>\n",
       "        <td>7.01</td>\n",
       "        <td>86.0</td>\n",
       "        <td>0</td>\n",
       "    </tr>\n",
       "    <tr>\n",
       "        <td>France</td>\n",
       "        <td>5</td>\n",
       "        <td>389.07</td>\n",
       "        <td>7.78</td>\n",
       "        <td>78.0</td>\n",
       "        <td>0</td>\n",
       "    </tr>\n",
       "    <tr>\n",
       "        <td>Germany</td>\n",
       "        <td>4</td>\n",
       "        <td>334.62</td>\n",
       "        <td>8.16</td>\n",
       "        <td>84.0</td>\n",
       "        <td>0</td>\n",
       "    </tr>\n",
       "    <tr>\n",
       "        <td>United Kingdom</td>\n",
       "        <td>3</td>\n",
       "        <td>245.52</td>\n",
       "        <td>8.77</td>\n",
       "        <td>82.0</td>\n",
       "        <td>0</td>\n",
       "    </tr>\n",
       "    <tr>\n",
       "        <td>Czech Republic</td>\n",
       "        <td>2</td>\n",
       "        <td>273.24</td>\n",
       "        <td>9.11</td>\n",
       "        <td>137.0</td>\n",
       "        <td>0</td>\n",
       "    </tr>\n",
       "    <tr>\n",
       "        <td>India</td>\n",
       "        <td>2</td>\n",
       "        <td>183.15</td>\n",
       "        <td>8.72</td>\n",
       "        <td>92.0</td>\n",
       "        <td>0</td>\n",
       "    </tr>\n",
       "    <tr>\n",
       "        <td>Portugal</td>\n",
       "        <td>2</td>\n",
       "        <td>185.13</td>\n",
       "        <td>6.38</td>\n",
       "        <td>93.0</td>\n",
       "        <td>0</td>\n",
       "    </tr>\n",
       "    <tr>\n",
       "        <td>Other</td>\n",
       "        <td>15</td>\n",
       "        <td>1094.94</td>\n",
       "        <td>7.45</td>\n",
       "        <td>73.0</td>\n",
       "        <td>1</td>\n",
       "    </tr>\n",
       "</table>"
      ],
      "text/plain": [
       "[('USA', 13, 1040.49, 7.94, 80.0, 0),\n",
       " ('Canada', 8, 535.59, 7.05, 67.0, 0),\n",
       " ('Brazil', 5, 427.68, 7.01, 86.0, 0),\n",
       " ('France', 5, 389.07, 7.78, 78.0, 0),\n",
       " ('Germany', 4, 334.62, 8.16, 84.0, 0),\n",
       " ('United Kingdom', 3, 245.52, 8.77, 82.0, 0),\n",
       " ('Czech Republic', 2, 273.24, 9.11, 137.0, 0),\n",
       " ('India', 2, 183.15, 8.72, 92.0, 0),\n",
       " ('Portugal', 2, 185.13, 6.38, 93.0, 0),\n",
       " ('Other', 15, 1094.94, 7.45, 73.0, 1)]"
      ]
     },
     "execution_count": 8,
     "metadata": {},
     "output_type": "execute_result"
    }
   ],
   "source": [
    "%%sql\n",
    "\n",
    "WITH countries_other AS\n",
    "    (SELECT CASE\n",
    "               WHEN (\n",
    "                      SELECT COUNT(*)\n",
    "                        FROM customer \n",
    "                       WHERE country = c.country) = 1\n",
    "                      THEN \"Other\"\n",
    "                      ELSE c.country\n",
    "                      END country,\n",
    "               c.customer_id,\n",
    "               i.*\n",
    "      FROM customer c\n",
    "      LEFT JOIN invoice i\n",
    "        ON c.customer_id = i.customer_id)\n",
    "\n",
    "SELECT country,\n",
    "       COUNT(DISTINCT(customer_id)) number_of_customers,\n",
    "       ROUND(SUM(total), 2) total_sales,\n",
    "       ROUND(AVG(total), 2) avg_sale,\n",
    "       ROUND(SUM(total) / COUNT(DISTINCT(customer_id))) avg_customer_total,\n",
    "       CASE\n",
    "          WHEN country = \"Other\" THEN 1\n",
    "          ELSE 0\n",
    "          END AS sort\n",
    "  FROM countries_other\n",
    " GROUP BY country\n",
    " ORDER BY sort, number_of_customers DESC"
   ]
  },
  {
   "cell_type": "markdown",
   "metadata": {},
   "source": [
    "## Country Customers Sales\n",
    "\n",
    "The country with the most customers is the USA with almost twice as many as Canada, this is also reflected in total sales.  Some other countries have higher average sales or average customer total sales, like Czech Republic.  Countries with only 1 customer have all been placed in \"Other\" category, and together they have sales of 1094, slightly higher than the USA, but this is the combined total from 15 countries."
   ]
  },
  {
   "cell_type": "code",
   "execution_count": 67,
   "metadata": {
    "collapsed": false
   },
   "outputs": [
    {
     "name": "stdout",
     "output_type": "stream",
     "text": [
      "Done.\n"
     ]
    },
    {
     "data": {
      "text/html": [
       "<table>\n",
       "    <tr>\n",
       "        <th>artist</th>\n",
       "        <th>number_of_playlists</th>\n",
       "    </tr>\n",
       "    <tr>\n",
       "        <td>Eugene Ormandy</td>\n",
       "        <td>7</td>\n",
       "    </tr>\n",
       "    <tr>\n",
       "        <td>Academy of St. Martin in the Fields &amp; Sir Neville Marriner</td>\n",
       "        <td>6</td>\n",
       "    </tr>\n",
       "    <tr>\n",
       "        <td>Berliner Philharmoniker &amp; Herbert Von Karajan</td>\n",
       "        <td>6</td>\n",
       "    </tr>\n",
       "    <tr>\n",
       "        <td>English Concert &amp; Trevor Pinnock</td>\n",
       "        <td>6</td>\n",
       "    </tr>\n",
       "    <tr>\n",
       "        <td>The King&#x27;s Singers</td>\n",
       "        <td>6</td>\n",
       "    </tr>\n",
       "</table>"
      ],
      "text/plain": [
       "[('Eugene Ormandy', 7),\n",
       " ('Academy of St. Martin in the Fields & Sir Neville Marriner', 6),\n",
       " ('Berliner Philharmoniker & Herbert Von Karajan', 6),\n",
       " ('English Concert & Trevor Pinnock', 6),\n",
       " (\"The King's Singers\", 6)]"
      ]
     },
     "execution_count": 67,
     "metadata": {},
     "output_type": "execute_result"
    }
   ],
   "source": [
    "%%sql\n",
    "SELECT a.name artist,\n",
    "       COUNT(DISTINCT(plt.playlist_id)) number_of_playlists\n",
    "  FROM playlist_track plt\n",
    " INNER JOIN track t\n",
    "    ON plt.track_id = t.track_id\n",
    " INNER JOIN album al\n",
    "    ON t.album_id = al.album_id\n",
    " INNER JOIN artist a\n",
    "    ON al.artist_id = a.artist_id\n",
    " GROUP BY artist\n",
    " ORDER BY number_of_playlists DESC\n",
    " LIMIT 5;\n",
    " \n"
   ]
  },
  {
   "cell_type": "markdown",
   "metadata": {},
   "source": [
    "## Artists in Playlists\n",
    "\n",
    "The artist in the most playlists is Eugene Ormandy with 7."
   ]
  },
  {
   "cell_type": "code",
   "execution_count": 121,
   "metadata": {
    "collapsed": false
   },
   "outputs": [
    {
     "name": "stdout",
     "output_type": "stream",
     "text": [
      "Done.\n"
     ]
    },
    {
     "data": {
      "text/html": [
       "<table>\n",
       "    <tr>\n",
       "        <th>was_purchased</th>\n",
       "        <th>count</th>\n",
       "        <th>percentage</th>\n",
       "    </tr>\n",
       "    <tr>\n",
       "        <td>Not purchased</td>\n",
       "        <td>1697</td>\n",
       "        <td>0.4844419069369112</td>\n",
       "    </tr>\n",
       "    <tr>\n",
       "        <td>Purchased</td>\n",
       "        <td>1806</td>\n",
       "        <td>0.5155580930630888</td>\n",
       "    </tr>\n",
       "</table>"
      ],
      "text/plain": [
       "[('Not purchased', 1697, 0.4844419069369112),\n",
       " ('Purchased', 1806, 0.5155580930630888)]"
      ]
     },
     "execution_count": 121,
     "metadata": {},
     "output_type": "execute_result"
    }
   ],
   "source": [
    "%%sql\n",
    "\n",
    "SELECT CASE\n",
    "           WHEN il.track_id IS NULL THEN \"Not purchased\"\n",
    "           ELSE \"Purchased\"\n",
    "           END AS was_purchased,\n",
    "        COUNT(DISTINCT(t.track_id)) count,\n",
    "        CAST(COUNT(DISTINCT(t.track_id)) as float) / (SELECT COUNT(*)\n",
    "           FROM track) percentage\n",
    "  FROM track t\n",
    "  LEFT JOIN invoice_line il\n",
    "    ON t.track_id = il.track_id\n",
    " GROUP BY was_purchased\n"
   ]
  },
  {
   "cell_type": "markdown",
   "metadata": {},
   "source": [
    "## Purchased Tracks\n",
    "\n",
    "Roughly half of all tracks available have been purchased."
   ]
  },
  {
   "cell_type": "code",
   "execution_count": 125,
   "metadata": {
    "collapsed": false
   },
   "outputs": [
    {
     "name": "stdout",
     "output_type": "stream",
     "text": [
      "Done.\n"
     ]
    },
    {
     "data": {
      "text/html": [
       "<table>\n",
       "    <tr>\n",
       "        <th>name</th>\n",
       "        <th>COUNT(*)</th>\n",
       "        <th>percentage</th>\n",
       "    </tr>\n",
       "    <tr>\n",
       "        <td>AAC audio file</td>\n",
       "        <td>11</td>\n",
       "        <td>0.0</td>\n",
       "    </tr>\n",
       "    <tr>\n",
       "        <td>MPEG audio file</td>\n",
       "        <td>3034</td>\n",
       "        <td>0.87</td>\n",
       "    </tr>\n",
       "    <tr>\n",
       "        <td>Protected AAC audio file</td>\n",
       "        <td>237</td>\n",
       "        <td>0.07</td>\n",
       "    </tr>\n",
       "    <tr>\n",
       "        <td>Protected MPEG-4 video file</td>\n",
       "        <td>214</td>\n",
       "        <td>0.06</td>\n",
       "    </tr>\n",
       "    <tr>\n",
       "        <td>Purchased AAC audio file</td>\n",
       "        <td>7</td>\n",
       "        <td>0.0</td>\n",
       "    </tr>\n",
       "</table>"
      ],
      "text/plain": [
       "[('AAC audio file', 11, 0.0),\n",
       " ('MPEG audio file', 3034, 0.87),\n",
       " ('Protected AAC audio file', 237, 0.07),\n",
       " ('Protected MPEG-4 video file', 214, 0.06),\n",
       " ('Purchased AAC audio file', 7, 0.0)]"
      ]
     },
     "execution_count": 125,
     "metadata": {},
     "output_type": "execute_result"
    }
   ],
   "source": [
    "%%sql\n",
    "\n",
    "SELECT mt.name,\n",
    "       COUNT(*),\n",
    "       ROUND(CAST(COUNT(*) AS float) / (SELECT COUNT(*)\n",
    "                                    FROM track), 2) percentage\n",
    "  FROM track t\n",
    " INNER JOIN media_type mt\n",
    "    ON t.media_type_id = mt.media_type_id\n",
    " GROUP BY mt.name\n",
    " "
   ]
  },
  {
   "cell_type": "code",
   "execution_count": 140,
   "metadata": {
    "collapsed": false
   },
   "outputs": [
    {
     "name": "stdout",
     "output_type": "stream",
     "text": [
      "Done.\n"
     ]
    },
    {
     "data": {
      "text/html": [
       "<table>\n",
       "    <tr>\n",
       "        <th>number_tracks_sold</th>\n",
       "        <th>protection</th>\n",
       "        <th>percentage</th>\n",
       "    </tr>\n",
       "    <tr>\n",
       "        <td>442</td>\n",
       "        <td>Protected</td>\n",
       "        <td>0.09</td>\n",
       "    </tr>\n",
       "    <tr>\n",
       "        <td>4315</td>\n",
       "        <td>Unprotected</td>\n",
       "        <td>0.91</td>\n",
       "    </tr>\n",
       "</table>"
      ],
      "text/plain": [
       "[(442, 'Protected', 0.09), (4315, 'Unprotected', 0.91)]"
      ]
     },
     "execution_count": 140,
     "metadata": {},
     "output_type": "execute_result"
    }
   ],
   "source": [
    "%%sql\n",
    "\n",
    "SELECT COUNT(*) number_tracks_sold,\n",
    "        CASE\n",
    "          WHEN mt.name LIKE \"%Protected%\" THEN \"Protected\"\n",
    "          ELSE \"Unprotected\"\n",
    "          END AS protection,\n",
    "       ROUND(CAST(COUNT(*) AS float) / (SELECT COUNT(*)\n",
    "                                    FROM invoice_line), 2) percentage\n",
    "  FROM invoice_line il\n",
    "  LEFT JOIN track t\n",
    "    ON il.track_id = t.track_id\n",
    "  LEFT JOIN media_type mt\n",
    "    ON t.media_type_id = mt.media_type_id\n",
    " GROUP BY protection"
   ]
  },
  {
   "cell_type": "markdown",
   "metadata": {},
   "source": [
    "## Protected VS Unprotected\n",
    "\n",
    "Protected music files make up about 13% of all tracks available in the music store, less than 10% of track sales.  Protection is not likely to affect popularity."
   ]
  }
 ],
 "metadata": {
  "kernelspec": {
   "display_name": "Python 3",
   "language": "python",
   "name": "python3"
  },
  "language_info": {
   "codemirror_mode": {
    "name": "ipython",
    "version": 3
   },
   "file_extension": ".py",
   "mimetype": "text/x-python",
   "name": "python",
   "nbconvert_exporter": "python",
   "pygments_lexer": "ipython3",
   "version": "3.4.3"
  }
 },
 "nbformat": 4,
 "nbformat_minor": 2
}
